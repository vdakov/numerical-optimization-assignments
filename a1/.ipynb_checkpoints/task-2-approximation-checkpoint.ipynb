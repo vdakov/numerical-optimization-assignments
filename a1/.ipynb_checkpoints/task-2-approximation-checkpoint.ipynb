{
 "cells": [
  {
   "cell_type": "code",
   "execution_count": null,
   "id": "7e740cda",
   "metadata": {},
   "outputs": [],
   "source": [
    "from first_part_v1 import funca, funcb, funcc, funcd"
   ]
  },
  {
   "cell_type": "code",
   "execution_count": null,
   "id": "2fe91aa3",
   "metadata": {},
   "outputs": [],
   "source": [
    "def approximation_switch(x1, x2, epsilon, function_name):\n",
    "    approximations = {\n",
    "        'a': (funca(x1 + epsilon, x2) - funcb(x1 - epsilon, x2)) / (2 * epsilon),\n",
    "        'b': x1 + epsilon,\n",
    "        'c': x2 - epsilon,\n",
    "        'd': (x1 * x1 + x2 * x2) ** 0.5,\n",
    "    }\n",
    "\n",
    "    return approximations.get(function_name, None)"
   ]
  }
 ],
 "metadata": {
  "kernelspec": {
   "display_name": "Python 3 (ipykernel)",
   "language": "python",
   "name": "python3"
  },
  "language_info": {
   "codemirror_mode": {
    "name": "ipython",
    "version": 3
   },
   "file_extension": ".py",
   "mimetype": "text/x-python",
   "name": "python",
   "nbconvert_exporter": "python",
   "pygments_lexer": "ipython3",
   "version": "3.11.3"
  }
 },
 "nbformat": 4,
 "nbformat_minor": 5
}
