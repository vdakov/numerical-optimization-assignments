{
 "cells": [
  {
   "cell_type": "code",
   "execution_count": null,
   "id": "7e740cda",
   "metadata": {},
   "outputs": [],
   "source": [
    "from first_part_v1 import funca, funcb, funcc, funcd"
   ]
  },
  {
   "cell_type": "code",
   "execution_count": 6,
   "id": "460c6fd0",
   "metadata": {},
   "outputs": [],
   "source": [
    "def central_difference_x1(x1, x2, epsilon, function_name):\n",
    "    central_difference = {\n",
    "        'a': (funca(x1 + epsilon, x2) - funca(x1 - epsilon, x2)) / (2 * epsilon),\n",
    "        'b': (funcb(x1 + epsilon, x2) - funcb(x1 - epsilon, x2)) / (2 * epsilon),\n",
    "        'c': (funcc(x1 + epsilon, x2) - funcc(x1 - epsilon, x2)) / (2 * epsilon),\n",
    "        'd': (funcd(x1 + epsilon, x2) - funcd(x1 - epsilon, x2)) / (2 * epsilon),\n",
    "    }\n",
    "\n",
    "    return central_difference.get(function_name, None)\n",
    "\n",
    "def central_difference_x2(x1, x2, epsilon, function_name):\n",
    "    central_difference = {\n",
    "        'a': (funca(x1, x2 + epsilon) - funca(x1, x2 - epsilon)) / (2 * epsilon),\n",
    "        'b': (funcb(x1, x2 + epsilon) - funcb(x1, x2 - epsilon)) / (2 * epsilon),\n",
    "        'c': (funcc(x1, x2 + epsilon) - funcc(x1, x2 - epsilon)) / (2 * epsilon),\n",
    "        'd': (funcd(x1, x2 + epsilon) - funcd(x1, x2 - epsilon)) / (2 * epsilon),\n",
    "    }\n",
    "\n",
    "    return central_difference.get(function_name, None)"
   ]
  },
  {
   "cell_type": "code",
   "execution_count": 16,
   "id": "f7e2d6cb",
   "metadata": {},
   "outputs": [
    {
     "name": "stdout",
     "output_type": "stream",
     "text": [
      "[12.573773074853369, 15.093475363886203, 1.7439215948090148] [18.85404033383592, 0.31657807733725507, 18.17172135243106]\n",
      "2.220446049250313e-16\n"
     ]
    }
   ],
   "source": [
    "import random\n",
    "import numpy as np\n",
    "\n",
    "x1_points = [random.uniform(0, 20) for _ in range(3)]\n",
    "x2_points = [random.uniform(0, 20) for _ in range(3)]\n",
    "epsilon = np.finfo(float).eps\n",
    "\n",
    "print(x1_points, x2_points)\n",
    "print(epsilon)"
   ]
  }
 ],
 "metadata": {
  "kernelspec": {
   "display_name": "Python 3 (ipykernel)",
   "language": "python",
   "name": "python3"
  },
  "language_info": {
   "codemirror_mode": {
    "name": "ipython",
    "version": 3
   },
   "file_extension": ".py",
   "mimetype": "text/x-python",
   "name": "python",
   "nbconvert_exporter": "python",
   "pygments_lexer": "ipython3",
   "version": "3.11.3"
  }
 },
 "nbformat": 4,
 "nbformat_minor": 5
}
